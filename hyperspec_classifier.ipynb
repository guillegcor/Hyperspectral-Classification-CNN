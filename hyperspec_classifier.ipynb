{
 "cells": [
  {
   "cell_type": "markdown",
   "metadata": {},
   "source": [
    "### Clasificación de imágenes multiespectro con CNN"
   ]
  },
  {
   "cell_type": "code",
   "execution_count": 99,
   "metadata": {},
   "outputs": [],
   "source": [
    "import numpy as np\n",
    "import random\n",
    "import spectral\n",
    "import scipy\n",
    "import scipy.ndimage\n",
    "from scipy.ndimage import rotate\n",
    "import scipy.io as sio\n",
    "\n",
    "\n",
    "from sklearn.decomposition import PCA\n",
    "from sklearn.model_selection import train_test_split\n",
    "\n",
    "from tensorflow.keras import utils as np_utils\n",
    "from keras.models import Sequential\n",
    "from keras.layers import Dense, Flatten, Conv1D, MaxPooling1D\n",
    "from tensorflow.keras.optimizers import SGD\n",
    "from keras import backend as K\n",
    "\n",
    "K.set_image_data_format('channels_last')"
   ]
  },
  {
   "cell_type": "code",
   "execution_count": 100,
   "metadata": {},
   "outputs": [
    {
     "name": "stdout",
     "output_type": "stream",
     "text": [
      "0 --> 56975\n",
      "1 --> 2009\n",
      "2 --> 3726\n",
      "3 --> 1976\n",
      "4 --> 1394\n",
      "5 --> 2678\n",
      "6 --> 3959\n",
      "7 --> 3579\n",
      "8 --> 11271\n",
      "9 --> 6203\n",
      "10 --> 3278\n",
      "11 --> 1068\n",
      "12 --> 1927\n",
      "13 --> 916\n",
      "14 --> 1070\n",
      "15 --> 7268\n",
      "16 --> 1807\n"
     ]
    }
   ],
   "source": [
    "# Cargar las imágenes y las etiquetas\n",
    "data = sio.loadmat('Data\\\\salinas_corrected.mat')['salinas_corrected']\n",
    "labels = sio.loadmat('Data\\\\salinas_gt.mat')['salinas_gt']\n",
    "\n",
    "# Mostrar cuantas veces aparece cada etiqueta\n",
    "uniqueLabels, labelCounts = np.unique(labels, return_counts=True)\n",
    "for l, c in zip(uniqueLabels, labelCounts):\n",
    "    print(f'{l} --> {c}')"
   ]
  },
  {
   "cell_type": "code",
   "execution_count": 101,
   "metadata": {},
   "outputs": [],
   "source": [
    "# Aplicar PCA\n",
    "new_data = np.reshape(data, (-1, data.shape[2])) # Reshapea de 3D (ancho, alto, bandas) a 2D (pixels, bandas): (512, 217, 204) --> (111104, 204)\n",
    "pca = PCA(n_components=30, whiten=True) # Selecciona los componentes principales y los normaliza\n",
    "new_data = pca.fit_transform(new_data)\n",
    "new_data = np.reshape(new_data, (data.shape[0], data.shape[1], 30))"
   ]
  },
  {
   "cell_type": "code",
   "execution_count": 102,
   "metadata": {},
   "outputs": [],
   "source": [
    "# Crea un borde de ceros, se usa en la siguiente celda para crear parches\n",
    "def padWithZeros(X, margin=2):\n",
    "    newX = np.zeros((X.shape[0] + 2 * margin, X.shape[1] + 2* margin, X.shape[2]))\n",
    "    x_offset = margin\n",
    "    y_offset = margin\n",
    "    newX[x_offset:X.shape[0] + x_offset, y_offset:X.shape[1] + y_offset, :] = X\n",
    "    return newX"
   ]
  },
  {
   "cell_type": "code",
   "execution_count": 103,
   "metadata": {},
   "outputs": [],
   "source": [
    "# Crear parches (regiones cuadradas alrededor de cada pixel)\n",
    "windowSize = 1\n",
    "margin = int((windowSize - 1) / 2) # Pixeles a incluir alrededor de cada pixel parcheado\n",
    "zeroPaddedX = padWithZeros(new_data, margin=margin) # Crea un borde de ceros alrededor de la imagen para que todos los pixeles tengan parches completos\n",
    "patchesData = np.zeros((new_data.shape[0] * new_data.shape[1], windowSize, windowSize, new_data.shape[2])) # Array para almacenar datos de los parches (1, 1, 204 [bandas])\n",
    "patchesLabels = np.zeros((new_data.shape[0] * new_data.shape[1])) # Array para almacenar la etiqueta de cada parche\n",
    "patchIndex = 0 # Inicia un índice para cada parche\n",
    "removeZeroLabels = True # Bandera para eliminar los parches con etiqueta 0\n",
    "\n",
    "# Obtener el parche de cada pixel\n",
    "for r in range(margin, zeroPaddedX.shape[0] - margin): # Índice de la fila, recorre toda la imagen evitando el padding (de margin=0 a altura-margin=altura completa)\n",
    "    for c in range(margin, zeroPaddedX.shape[1] - margin): # Índice de la columna, haciendo que cada pixel tenga las coordenadas (r, c)\n",
    "        patch = zeroPaddedX[r - margin:r + margin + 1, c-margin:c + margin + 1] # Selecciona los pixels de alrededor del pixel (parche)\n",
    "        patchesData[patchIndex, :, :, :] = patch # Guarda los datos del parche\n",
    "        patchesLabels[patchIndex] = labels[r-margin, c-margin] # Guarda la etiqueta de ese parche siguiendo el mismo índice\n",
    "        patchIndex += 1\n",
    "\n",
    "# Eliminar los parches etiquetados como 0 (no tienen info o son áreas de fondo no útiles para el entrenamiento)\n",
    "if removeZeroLabels:\n",
    "    patchesData = patchesData[patchesLabels > 0, :, :, :]\n",
    "    patchesLabels = patchesLabels[patchesLabels > 0]\n",
    "    patchesLabels -= 1"
   ]
  },
  {
   "cell_type": "code",
   "execution_count": 104,
   "metadata": {},
   "outputs": [
    {
     "name": "stdout",
     "output_type": "stream",
     "text": [
      "Forma del array de parches:\n",
      "Parches: 54129\t Altura: 1\t Anchura: 1\t Bandas espectrales: 30\n"
     ]
    }
   ],
   "source": [
    "print(f'Forma del array de parches:')\n",
    "print(f'Parches: {patchesData.shape[0]}\\t Altura: {patchesData.shape[1]}\\t Anchura: {patchesData.shape[2]}\\t Bandas espectrales: {patchesData.shape[3]}')"
   ]
  },
  {
   "cell_type": "code",
   "execution_count": 105,
   "metadata": {},
   "outputs": [],
   "source": [
    "# Crear los conjuntos de entrenamiento y prueba\n",
    "X_train, X_test, y_train, y_test = train_test_split(patchesData, patchesLabels, train_size=0.75, stratify=patchesLabels, random_state=11)"
   ]
  },
  {
   "cell_type": "code",
   "execution_count": 106,
   "metadata": {},
   "outputs": [],
   "source": [
    "# Sobremuestreo de las clases minoritarias para equilibrar las apariciones\n",
    "uniqueLabels, labelCounts = np.unique(y_train, return_counts=True)\n",
    "maxCount = np.max(labelCounts) # Apariciones de la clase mayoritaria\n",
    "labelInverseRatios = maxCount / labelCounts # Array que invierte el peso de las apariciones de cada clase\n",
    "X_train = X_train[y_train == uniqueLabels[0], :].repeat(round(labelInverseRatios[0]), axis=0) # Multiplica las muestras de la primera clase por el ratio invertido\n",
    "y_train = y_train[y_train == uniqueLabels[0]].repeat(round(labelInverseRatios[0]), axis=0) # Misma operación para mantener la relación entre X e y\n",
    "\n",
    "# Recorrer las demás clases aplicando las dos operaciones anteriores (apariciones * ratio inverso)\n",
    "for label, labelInverseRatio in zip(uniqueLabels[1:], labelInverseRatios[1:]):\n",
    "    cX = X_train[y_train == label, :].repeat(round(labelInverseRatio), axis=0)\n",
    "    cY = y_train[y_train == label].repeat(round(labelInverseRatio), axis=0)\n",
    "\n",
    "    # Ir añadiendo las clases ya equilibradas\n",
    "    X_train = np.concatenate((X_train, cX))\n",
    "    y_train = np.concatenate((y_train, cY))\n",
    "\n",
    "# Permutar los datos para que las clases no aparezcan seguidas (ej: [1, 1, 1, 1, 2, 2, 2, 2...] --> [1, 2, 2, 4, 6, 1, 3, 4...])\n",
    "np.random.seed(seed=42)\n",
    "random_permutation = np.random.permutation(y_train.shape[0]) # Genera una lista aleatoria de índices\n",
    "X_train = X_train[random_permutation, :] # Reorganiza el array con el nuevo orden aleatorio de índices\n",
    "y_train = y_train[random_permutation] # Lo mismo"
   ]
  },
  {
   "cell_type": "code",
   "execution_count": 107,
   "metadata": {},
   "outputs": [],
   "source": [
    "# Hacer data augmentation a la mitad de los parches\n",
    "for i in range(int(X_train.shape[0]/2)):\n",
    "    patch = X_train[i, :, :, :] # Selecciona el parche con todos sus datos (alto, ancho, bandas)\n",
    "    num = random.randint(0, 2) # Genera un número aleatorio (0, 1 o 2)\n",
    "    if num == 0: # Volteo vertical\n",
    "        flipped_patch = np.flipud(patch)\n",
    "    elif num == 1:  # Volteo horizontal (izq a dcha)\n",
    "        flipped_patch = np.fliplr(patch)\n",
    "    else: # Rotación aleatoria\n",
    "        no = random.randrange(-180,180,30)\n",
    "        flipped_patch = scipy.ndimage.rotate(patch, no,axes=(1, 0),reshape=False, output=None, order=3, mode='constant', cval=0.0, prefilter=False)\n",
    "    \n",
    "    # Asignar el nuevo parche augmentado\n",
    "    patch2 = flipped_patch\n",
    "    X_train[i, :, :, :] = patch2"
   ]
  }
 ],
 "metadata": {
  "kernelspec": {
   "display_name": ".venv_hyperspec",
   "language": "python",
   "name": "python3"
  },
  "language_info": {
   "codemirror_mode": {
    "name": "ipython",
    "version": 3
   },
   "file_extension": ".py",
   "mimetype": "text/x-python",
   "name": "python",
   "nbconvert_exporter": "python",
   "pygments_lexer": "ipython3",
   "version": "3.12.4"
  }
 },
 "nbformat": 4,
 "nbformat_minor": 2
}
